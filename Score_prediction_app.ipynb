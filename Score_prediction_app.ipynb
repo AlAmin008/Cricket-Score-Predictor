{
  "nbformat": 4,
  "nbformat_minor": 0,
  "metadata": {
    "colab": {
      "provenance": []
    },
    "kernelspec": {
      "name": "python3",
      "display_name": "Python 3"
    },
    "language_info": {
      "name": "python"
    }
  },
  "cells": [
    {
      "cell_type": "code",
      "execution_count": null,
      "metadata": {
        "id": "eOymt3Bd1m-z"
      },
      "outputs": [],
      "source": [
        "!pip install streamlit"
      ]
    },
    {
      "cell_type": "code",
      "source": [
        "!pip install pyngrok"
      ],
      "metadata": {
        "colab": {
          "base_uri": "https://localhost:8080/"
        },
        "id": "wjIaS3Q110v-",
        "outputId": "ec64a5bf-7267-4c07-9df0-e8a104da8eda"
      },
      "execution_count": 2,
      "outputs": [
        {
          "output_type": "stream",
          "name": "stdout",
          "text": [
            "Collecting pyngrok\n",
            "  Downloading pyngrok-6.0.0.tar.gz (681 kB)\n",
            "\u001b[?25l     \u001b[90m━━━━━━━━━━━━━━━━━━━━━━━━━━━━━━━━━━━━━━━━\u001b[0m \u001b[32m0.0/681.2 kB\u001b[0m \u001b[31m?\u001b[0m eta \u001b[36m-:--:--\u001b[0m\r\u001b[2K     \u001b[91m━━━━━━━━━━━━━\u001b[0m\u001b[90m╺\u001b[0m\u001b[90m━━━━━━━━━━━━━━━━━━━━━━━━━\u001b[0m \u001b[32m235.5/681.2 kB\u001b[0m \u001b[31m7.3 MB/s\u001b[0m eta \u001b[36m0:00:01\u001b[0m\r\u001b[2K     \u001b[90m━━━━━━━━━━━━━━━━━━━━━━━━━━━━━━━━━━━━━━\u001b[0m \u001b[32m681.2/681.2 kB\u001b[0m \u001b[31m11.8 MB/s\u001b[0m eta \u001b[36m0:00:00\u001b[0m\n",
            "\u001b[?25h  Preparing metadata (setup.py) ... \u001b[?25l\u001b[?25hdone\n",
            "Requirement already satisfied: PyYAML in /usr/local/lib/python3.10/dist-packages (from pyngrok) (6.0)\n",
            "Building wheels for collected packages: pyngrok\n",
            "  Building wheel for pyngrok (setup.py) ... \u001b[?25l\u001b[?25hdone\n",
            "  Created wheel for pyngrok: filename=pyngrok-6.0.0-py3-none-any.whl size=19867 sha256=6b2797ad7dd9a627afe88a1307bf3ea55c6dbd3b2d54607b31852ef97f2b9627\n",
            "  Stored in directory: /root/.cache/pip/wheels/5c/42/78/0c3d438d7f5730451a25f7ac6cbf4391759d22a67576ed7c2c\n",
            "Successfully built pyngrok\n",
            "Installing collected packages: pyngrok\n",
            "Successfully installed pyngrok-6.0.0\n"
          ]
        }
      ]
    },
    {
      "cell_type": "code",
      "source": [
        "%%writefile app.py\n",
        "import streamlit as st\n",
        "import pickle\n",
        "import numpy as np\n",
        "import pandas as pd\n",
        "\n",
        "pipe = pickle.load(open('pipe.pkl','rb'))\n",
        "\n",
        "teams=['Australia', 'India', 'Bangladesh', 'New Zealand', 'South Africa', 'England', 'West Indies', 'Afghanistan', 'Pakistan', 'Sri Lanka']\n",
        "cities = ['Colombo', 'Mirpur', 'Johannesburg', 'Dubai', 'Auckland', 'Cape Town', 'London', 'Pallekele', 'Barbados', 'Melbourne', 'Durban', 'St Lucia', 'Wellington', 'Sydney', 'Lauderhill', 'Hamilton', 'Centurion', 'Abu Dhabi', 'Manchester', 'Mumbai', 'Nottingham', 'Southampton', 'Mount Maunganui', 'Chittagong', 'Kolkata', 'Lahore', 'Delhi', 'Nagpur', 'Cardiff', 'Chandigarh', 'Adelaide', 'Bangalore', 'St Kitts', 'Christchurch', 'Trinidad']\n",
        "\n",
        "st.title('Cricket Score Predictor')\n",
        "col1, col2 = st.columns(2)\n",
        "\n",
        "with col1:\n",
        "    batting_team = st.selectbox('Select batting team', sorted(teams))\n",
        "with col2:\n",
        "    bowling_team = st.selectbox('Select bowling team', sorted(teams))\n",
        "\n",
        "city = st.selectbox('Select City', sorted(cities))\n",
        "\n",
        "col3, col4, col5 = st.columns(3)\n",
        "with col3:\n",
        "    current_score = st.number_input('Current Score')\n",
        "with col4:\n",
        "    overs = st.number_input('Overs done (Must be above 5)')\n",
        "with col5:\n",
        "    wickets = st.number_input('Wickets out')\n",
        "\n",
        "last_five = st.number_input('Runs scored in last 5 overs')\n",
        "\n",
        "if st.button('Predict Score'):\n",
        "  balls_left = (120 - overs*6)\n",
        "  wickets_left = 1- - wickets\n",
        "  crr = current_score/overs\n",
        "\n",
        "  input_df = pd.DataFrame({\n",
        "    'batting_team': [batting_team],'bowling_team':[bowling_team],\n",
        "    'city': city,'current_score': [current_score], 'balls_left': [balls_left],\n",
        "    'wickets_left' : [wickets],'crr' : [crr], 'last_five':[last_five]\n",
        "  })\n",
        "  result = pipe.predict(input_df)\n",
        "\n",
        "  st.text(\"Predicted Score : \"+str(int(result[0])))\n",
        "\n"
      ],
      "metadata": {
        "colab": {
          "base_uri": "https://localhost:8080/"
        },
        "id": "_5pTulAO19cx",
        "outputId": "96b2facb-e9f5-40fe-c796-5ca91a865630"
      },
      "execution_count": 9,
      "outputs": [
        {
          "output_type": "stream",
          "name": "stdout",
          "text": [
            "Overwriting app.py\n"
          ]
        }
      ]
    },
    {
      "cell_type": "code",
      "source": [
        "!streamlit run app.py & npx localtunnel --port 8501"
      ],
      "metadata": {
        "colab": {
          "base_uri": "https://localhost:8080/"
        },
        "id": "yMoRqpyY-dNS",
        "outputId": "ecfe8352-4953-43ad-8744-e494e7ade920"
      },
      "execution_count": 10,
      "outputs": [
        {
          "output_type": "stream",
          "name": "stdout",
          "text": [
            "\u001b[?25l[..................] / rollbackFailedOptional: verb npm-session f00616a717147ae\u001b[0m\u001b[K\r[..................] / rollbackFailedOptional: verb npm-session f00616a717147ae\u001b[0m\u001b[K\r[..................] / rollbackFailedOptional: verb npm-session f00616a717147ae\u001b[0m\u001b[K\r\n",
            "Collecting usage statistics. To deactivate, set browser.gatherUsageStats to False.\n",
            "\u001b[0m\n",
            "\u001b[0m\n",
            "\u001b[34m\u001b[1m  You can now view your Streamlit app in your browser.\u001b[0m\n",
            "\u001b[0m\n",
            "\u001b[34m  Network URL: \u001b[0m\u001b[1mhttp://172.28.0.12:8501\u001b[0m\n",
            "\u001b[34m  External URL: \u001b[0m\u001b[1mhttp://35.193.95.142:8501\u001b[0m\n",
            "\u001b[0m\n",
            "\u001b[K\u001b[?25hnpx: installed 22 in 1.983s\n",
            "your url is: https://social-hairs-dress.loca.lt\n",
            "\u001b[34m  Stopping...\u001b[0m\n",
            "^C\n"
          ]
        }
      ]
    },
    {
      "cell_type": "code",
      "source": [
        "!curl ipecho.net/plain"
      ],
      "metadata": {
        "colab": {
          "base_uri": "https://localhost:8080/"
        },
        "id": "MKL-U9ohERGJ",
        "outputId": "ca42ccda-ef84-4e89-b130-3bc2d4118a87"
      },
      "execution_count": 5,
      "outputs": [
        {
          "output_type": "stream",
          "name": "stdout",
          "text": [
            "35.193.95.142"
          ]
        }
      ]
    }
  ]
}